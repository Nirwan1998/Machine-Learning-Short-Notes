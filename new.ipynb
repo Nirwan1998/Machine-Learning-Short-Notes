{
 "cells": [
  {
   "cell_type": "markdown",
   "metadata": {},
   "source": [
    "# Find more complex boundaries using Linear Regression ---> Multivariate Regression"
   ]
  },
  {
   "cell_type": "markdown",
   "metadata": {},
   "source": []
  },
  {
   "cell_type": "markdown",
   "metadata": {},
   "source": [
    "### We used linear regression to find the best fit line between $x$ and $y$.\n",
    "### At first glance, it may seem like a weak algorithm, not suited for more complex boundaries.\n",
    "### Let's look at a single feature dataset:\n",
    "### $x | y$\n",
    "### $1 | 3$\n",
    "### $2 | 5$\n",
    "### $3 | 7$\n",
    "### $4 | 9$\n",
    "### Here $y = mx + c$ for some $m$ and $c$. A linear function."
   ]
  },
  {
   "cell_type": "code",
   "execution_count": 9,
   "metadata": {},
   "outputs": [
    {
     "data": {
      "image/png": "[encoded data removed]",
      "text/plain": [
       "<Figure size 432x288 with 1 Axes>"
      ]
     },
     "metadata": {
      "needs_background": "light"
     },
     "output_type": "display_data"
    }
   ],
   "source": [
    "import numpy as np\n",
    "import matplotlib.pyplot as plt\n",
    "x_line1 = np.arange(0, 10, 1)\n",
    "y_line1 = 3 * x_line1 + 0\n",
    "plt.plot(x_line1, y_line1, 'r')\n",
    "X = [1, 2, 3, 4]\n",
    "Y = [3, 5, 7, 9]\n",
    "plt.scatter(X, Y)\n",
    "plt.show()"
   ]
  },
  {
   "cell_type": "markdown",
   "metadata": {},
   "source": [
    "### Now, let us introduce a new feature: $x_{}x$.\n",
    "### where $x_{}x = x^2$.\n",
    "### Our dataset now looks like:\n",
    "### $x | x_{}x | y$\n",
    "### $1 | 01 | 3$\n",
    "### $2 | 04 | 5$\n",
    "### $3 | 09 |7$\n",
    "### $4 | 16| 9$\n",
    "### Here $y = m_1x + m_2x_{}x + c$ for some $m_1, m_2$ and $c$. Still, a linear function in 3D space. A plane.\n",
    "### **BUT**, $x$ and $x_{}x$ are dependent on each other, therefore we get:\n",
    "### $y = m_1x + m_2x^2 + c$. A non-linear function in 2D space. A parabola.\n",
    "### In other words, we can now predict more complex boundaries with Linear Regression.\n",
    "### In the same manner, we may add new features dependent on our original feature set, creating more and more complex boundaries. We can take exponents, logarithms, polynomials and the like."
   ]
  },
  {
   "cell_type": "code",
   "execution_count": 12,
   "metadata": {},
   "outputs": [
    {
     "data": {
      "image/png": "[encoded data removed]",
      "text/plain": [
       "<Figure size 432x288 with 1 Axes>"
      ]
     },
     "metadata": {
      "needs_background": "light"
     },
     "output_type": "display_data"
    }
   ],
   "source": [
    "x_line1 = np.arange(0, 10, 1)\n",
    "y_line1 = 3 * x_line1 + 1.5 * x_line1**2 + 0\n",
    "plt.plot(x_line1, y_line1, 'r')\n",
    "X = [1, 2, 3, 4]\n",
    "Y = [3, 5, 7, 9]\n",
    "plt.scatter(X, Y)\n",
    "plt.show()"
   ]
  },
  {
   "cell_type": "markdown",
   "metadata": {},
   "source": [
    "## Playing with the Boston Dataset"
   ]
  },
  {
   "cell_type": "code",
   "execution_count": null,
   "metadata": {},
   "outputs": [],
   "source": [
    "from sklearn import datasets\n",
    "boston = datasets.load_boston()\n",
    "X = boston.data\n",
    "Y = boston.target"
   ]
  },
  {
   "cell_type": "code",
   "execution_count": 34,
   "metadata": {},
   "outputs": [
    {
     "data": {
      "text/plain": [
       "(506, 13)"
      ]
     },
     "execution_count": 34,
     "metadata": {},
     "output_type": "execute_result"
    }
   ],
   "source": [
    "X.shape"
   ]
  },
  {
   "cell_type": "markdown",
   "metadata": {},
   "source": [
    "## Adding features manually"
   ]
  },
  {
   "cell_type": "code",
   "execution_count": 35,
   "metadata": {},
   "outputs": [
    {
     "name": "stdout",
     "output_type": "stream",
     "text": [
      "['CRIM' 'ZN' 'INDUS' 'CHAS' 'NOX' 'RM' 'AGE' 'DIS' 'RAD' 'TAX' 'PTRATIO'\n",
      " 'B' 'LSTAT']\n"
     ]
    },
    {
     "data": {
      "text/plain": [
       "(506, 14)"
      ]
     },
     "execution_count": 35,
     "metadata": {},
     "output_type": "execute_result"
    }
   ],
   "source": [
    "import pandas as pd\n",
    "df = pd.DataFrame(X)\n",
    "print(boston.feature_names)\n",
    "df.columns = boston.feature_names\n",
    "# Adding new feature\n",
    "df[\"AGE_AGE\"] = df.AGE ** 2\n",
    "X2 = df.values\n",
    "X2.shape"
   ]
  },
  {
   "cell_type": "code",
   "execution_count": 36,
   "metadata": {},
   "outputs": [],
   "source": [
    "from sklearn import model_selection\n",
    "x_train, x_test, y_train, y_test = model_selection.train_test_split(X2, Y)"
   ]
  },
  {
   "cell_type": "code",
   "execution_count": 37,
   "metadata": {},
   "outputs": [],
   "source": [
    "from sklearn.linear_model import LinearRegression\n",
    "alg = LinearRegression()"
   ]
  },
  {
   "cell_type": "code",
   "execution_count": 38,
   "metadata": {},
   "outputs": [
    {
     "data": {
      "text/plain": [
       "LinearRegression()"
      ]
     },
     "execution_count": 38,
     "metadata": {},
     "output_type": "execute_result"
    }
   ],
   "source": [
    "alg.fit(x_train, y_train)"
   ]
  },
  {
   "cell_type": "code",
   "execution_count": 39,
   "metadata": {},
   "outputs": [
    {
     "data": {
      "text/plain": [
       "0.6898250572248072"
      ]
     },
     "execution_count": 39,
     "metadata": {},
     "output_type": "execute_result"
    }
   ],
   "source": [
    "score = alg.score(x_test, y_test)\n",
    "score"
   ]
  },
  {
   "cell_type": "markdown",
   "metadata": {},
   "source": [
    "## Now adding extra features using sklearn"
   ]
  },
  {
   "cell_type": "code",
   "execution_count": 45,
   "metadata": {},
   "outputs": [],
   "source": [
    "from sklearn import model_selection\n",
    "x_train, x_test, y_train, y_test = model_selection.train_test_split(X, Y)"
   ]
  },
  {
   "cell_type": "code",
   "execution_count": 46,
   "metadata": {},
   "outputs": [
    {
     "name": "stdout",
     "output_type": "stream",
     "text": [
      "0.8630284548570117\n"
     ]
    }
   ],
   "source": [
    "from sklearn.preprocessing import PolynomialFeatures\n",
    "from sklearn.pipeline import Pipeline\n",
    "model = Pipeline([('poly', PolynomialFeatures(degree=2)), ('linear', LinearRegression(fit_intercept=False))])\n",
    "# include all dependent features of degree 2\n",
    "model = model.fit(x_train, y_train)\n",
    "model.named_steps['linear'].coef_\n",
    "print(model.score(x_test, y_test))"
   ]
  },
  {
   "cell_type": "markdown",
   "metadata": {},
   "source": [
    "### The linear model trained on polynomial features is able to exactly recover the input polynomial coefficients.\n",
    "\n",
    "### In some cases it’s not necessary to include higher powers of any single feature, but only the so-called interaction features that multiply together at most $d$ distinct features. These can be gotten from PolynomialFeatures with the setting interaction_only=True.\n",
    "\n",
    "### For example, when dealing with boolean features, $x^n_i = x_i$ for all $n$ and is therefore useless; but $x_ix_j$ represents the conjunction of two booleans. This way, we can solve the XOR problem with a linear classifier:"
   ]
  },
  {
   "cell_type": "code",
   "execution_count": 47,
   "metadata": {},
   "outputs": [
    {
     "name": "stdout",
     "output_type": "stream",
     "text": [
      "0.8382258994368881\n"
     ]
    }
   ],
   "source": [
    "model = Pipeline([('poly', PolynomialFeatures(degree=2, interaction_only = True)), ('linear', LinearRegression(fit_intercept=False))])\n",
    "model = model.fit(x_train, y_train)\n",
    "model.named_steps['linear'].coef_\n",
    "print(model.score(x_test, y_test))"
   ]
  },
  {
   "cell_type": "markdown",
   "metadata": {},
   "source": [
    "# Complexity Analysis of Generic Equations"
   ]
  },
  {
   "cell_type": "markdown",
   "metadata": {},
   "source": [
    "### Our feature set won't always contain 1 or 2 features.\n",
    "### So how do we find $m$ and $c$ in the generic case.\n",
    "### $y = m_1 * x^1_i + m_2 * x^2_i + m_3 * x^3_i + .... + m_n * x^n_i + c$\n",
    "### We can't really differentiate between all possible numbers and find the values of $m_i$.\n",
    "### In this case we look at $X$ in a different light. (X is the vector representation of all features)\n",
    "### We take $X$ to be a $m * (n + 1)$ sized matrix. The \"$+1$\" is for representing the intercepts; $m$ is the size of the dataset and $n$ is the number of features.\n",
    "### The last column of the matrix consists of $1's$.\n",
    "### $X = \\begin{bmatrix} x^1_1 & x^2_1 & x^3_1 &...... &x^n_1 & 1 \\\\ x^1_2 & x^2_2 & x^3_2 &...... &x^n_2 & 1\\\\ x^1_3 & x^2_3 & x^3_3 &...... &x^n_3 & 1\\\\ . & . & . &...... &. & 1\\\\ . & . & . &...... &. & 1\\\\ . & . & . &...... &. & 1\\\\ x^1_m & x^2_m & x^3_m &...... &x^n_m & 1\\end{bmatrix}$\n",
    "### $Coeff = \\begin{bmatrix} m_1\\\\ m_2\\\\ m_3\\\\ . &\\\\ .\\\\ .\\\\ m_m\\end{bmatrix}$\n",
    "### $Y = \\begin{bmatrix} x^1_1 & x^2_1 & x^3_1 &...... &x^n_1 & 1 \\\\ x^1_2 & x^2_2 & x^3_2 &...... &x^n_2 & 1\\\\ x^1_3 & x^2_3 & x^3_3 &...... &x^n_3 & 1\\\\ . & . & . &...... &. & 1\\\\ . & . & . &...... &. & 1\\\\ . & . & . &...... &. & 1\\\\ x^1_m & x^2_m & x^3_m &...... &x^n_m & 1\\end{bmatrix} * \\begin{bmatrix} m_1\\\\ m_2\\\\ m_3\\\\ . &\\\\ .\\\\ .\\\\ m_m\\end{bmatrix} = \\begin{bmatrix} y_1\\\\ y_2\\\\ y_3\\\\ . &\\\\ .\\\\ .\\\\ y_m\\end{bmatrix}$\n",
    "### $Y = X * Coeff$\n",
    "### Our aim is finding the $Coeff$ matrix. To find it, we use:\n",
    "### $Coeff = (X^TX)^{-1}*X^T*Y$"
   ]
  },
  {
   "cell_type": "markdown",
   "metadata": {},
   "source": [
    "### The problem with the above method is that it's time complexity is too high: ~$O(n^3) + O(mn^2)$"
   ]
  },
  {
   "cell_type": "markdown",
   "metadata": {},
   "source": [
    "### Therefore, we shall find an alternate method to calculate the values of $Coeff$ without the need for this humongous amount of computation. The values won't be exact, rather close approximates."
   ]
  },
  {
   "cell_type": "markdown",
   "metadata": {},
   "source": [
    "## Gradient Descent"
   ]
  },
  {
   "cell_type": "markdown",
   "metadata": {},
   "source": [
    "### Let's talk about a single dimensional vector.\n",
    "### Hypothesis|$f = y^p = mx + c$.\n",
    "### We want to make sure that the cost function is minimized\n",
    "### $Cost = cost(m, c) = \\frac{1}{N}\\sum_{i=0}^{n} (y_i - (m * x_i + c))^2$ -> Parabolic function\n",
    "### We need to find minima for the parabola."
   ]
  },
  {
   "cell_type": "code",
   "execution_count": 61,
   "metadata": {},
   "outputs": [
    {
     "data": {
      "image/png": "[encoded data removed]",
      "text/plain": [
       "<Figure size 432x288 with 1 Axes>"
      ]
     },
     "metadata": {
      "needs_background": "light"
     },
     "output_type": "display_data"
    }
   ],
   "source": [
    "x = np.arange(0, 8, 0.1)\n",
    "y = x**2 - 8*x + 16\n",
    "plt.plot(x, y)\n",
    "plt.xlabel(\"m\")\n",
    "plt.ylabel(\"Cost\")\n",
    "plt.show()"
   ]
  },
  {
   "cell_type": "markdown",
   "metadata": {},
   "source": [
    "### We start at any given $m$, say 7. The corresponding cost would be 9. We then find a way to move towards a better cost.\n",
    "### Tangents on the left side of the parabola have a negative slope, while tangents on the right side have a positive slope.\n",
    "### Therefore, a plausible formula for shifting m may be:\n",
    "### $m_{new} = m_{old} - slope$ --> something like this.\n",
    "### The problem with the above formula is that it mey be reduced at every iteration. For this reason we introduce a constant $\\alpha$.\n",
    "### $m_{new} = m_{old} - \\alpha * slope$.\n",
    "### With the help of $\\alpha$ we can increase or decrease the rate of change of $m$. It acts like a accelerator/decelerator.\n",
    "### We continue iterating until the difference between two consecutive cost is negligible.\n",
    "### $m_{new} = m_{old} - \\alpha * slope_m$.\n",
    "### $c_{new} = c_{old} - \\alpha * slope_c$.\n",
    "### where $slope_m = \\frac{\\partial Cost}{\\partial m}$ and $slope_c = \\frac{\\partial Cost}{\\partial c}$."
   ]
  },
  {
   "cell_type": "markdown",
   "metadata": {},
   "source": [
    "### $Cost = cost(m, c) = \\frac{1}{N}\\sum_{i=0}^{n} (y_i - (m * x_i + c))^2$"
   ]
  },
  {
   "cell_type": "markdown",
   "metadata": {},
   "source": [
    "### $slope_m = \\frac{\\partial Cost}{\\partial m} = \\frac{2}{N}\\sum_{i=0}^{n} (y_i - (m * x_i + c))(-x_i)$\n",
    "### $slope_c = \\frac{\\partial Cost}{\\partial c} = \\frac{2}{N}\\sum_{i=0}^{n} (y_i - (m * x_i + c))(-1)$"
   ]
  },
  {
   "cell_type": "markdown",
   "metadata": {},
   "source": [
    "### We start at a random $m$ and $c$, calculate $slope_m$ and $slope_c$ and find new $m$ and $c$\n",
    "### After repeating these iterative steps for a while, we should arrive at the minimum $Cost$."
   ]
  },
  {
   "cell_type": "markdown",
   "metadata": {},
   "source": [
    "## Learning Rate"
   ]
  },
  {
   "cell_type": "markdown",
   "metadata": {},
   "source": [
    "### What is $\\alpha$?\n",
    "### While iterating to new $m$ and $c$, we may go a bit too far at times, overshoot as they say. It is also possible that we are moving too slow with each iteration. For this reason, we want a way to control the rate at which we are moving. $\\alpha$ is the \"rate controller\".\n",
    "### $\\alpha$ is called the **Learning Rate**.\n",
    "### If $alpha$ is too large, $m_{new}$ and $c_{new}$ will overshoot. It will lead to an ascent rather than a descent which is counterproductive because $Cost$ increases. Similarly, if $\\alpha$ is too low, the descent will be too slow, reaching minima at $\\infty$."
   ]
  },
  {
   "cell_type": "markdown",
   "metadata": {},
   "source": [
    "### Sometimes, we use **Adaptive Alpha**, which means that $\\alpha$ adjusts itself by judging how close it is to the minima. It starts off large, and then reduces as it draws near to the minima."
   ]
  },
  {
   "cell_type": "markdown",
   "metadata": {},
   "source": [
    "## Code Gradient Descent"
   ]
  },
  {
   "cell_type": "code",
   "execution_count": 63,
   "metadata": {},
   "outputs": [],
   "source": [
    "import numpy as np"
   ]
  },
  {
   "cell_type": "code",
   "execution_count": 67,
   "metadata": {},
   "outputs": [],
   "source": [
    "def step_gradient(pt, lr, m, c):\n",
    "    x = pt[:,0]\n",
    "    y = pt[:,1]\n",
    "    slope_m = 2 * sum(-(x*y).mean() + m*(x**2).mean() + c*(x).mean())\n",
    "    slope_c = 2 * sum(-(y).mean() + m*(x).mean() + c)\n",
    "    m = m - lr*slope_m\n",
    "    c = c - lr*slope_c\n",
    "    return m, c"
   ]
  },
  {
   "cell_type": "code",
   "execution_count": 68,
   "metadata": {},
   "outputs": [],
   "source": [
    "def gd(data, lr, num_iter):\n",
    "    m = 1\n",
    "    c = 1\n",
    "    for i in range(num_iter):\n",
    "        m, c = step_gradient(data, lr, m ,c)"
   ]
  },
  {
   "cell_type": "code",
   "execution_count": 69,
   "metadata": {},
   "outputs": [],
   "source": [
    "def run():\n",
    "    data = np.loadtxt('data.csv', delimiter=',')\n",
    "    lr = 0.001\n",
    "    num_iter = 1000\n",
    "    m, c = gd(data, lr, num_iter)\n",
    "    print(m, c)"
   ]
  },
  {
   "cell_type": "code",
   "execution_count": 70,
   "metadata": {},
   "outputs": [
    {
     "ename": "TypeError",
     "evalue": "'numpy.float64' object is not iterable",
     "output_type": "error",
     "traceback": [
      "\u001b[1;31m---------------------------------------------------------------------------\u001b[0m",
      "\u001b[1;31mTypeError\u001b[0m                                 Traceback (most recent call last)",
      "\u001b[1;32m<ipython-input-70-ec9775ede022>\u001b[0m in \u001b[0;36m<module>\u001b[1;34m\u001b[0m\n\u001b[1;32m----> 1\u001b[1;33m \u001b[0mrun\u001b[0m\u001b[1;33m(\u001b[0m\u001b[1;33m)\u001b[0m\u001b[1;33m\u001b[0m\u001b[1;33m\u001b[0m\u001b[0m\n\u001b[0m",
      "\u001b[1;32m<ipython-input-69-20df0cf1d4ba>\u001b[0m in \u001b[0;36mrun\u001b[1;34m()\u001b[0m\n\u001b[0;32m      3\u001b[0m     \u001b[0mlr\u001b[0m \u001b[1;33m=\u001b[0m \u001b[1;36m0.001\u001b[0m\u001b[1;33m\u001b[0m\u001b[1;33m\u001b[0m\u001b[0m\n\u001b[0;32m      4\u001b[0m     \u001b[0mnum_iter\u001b[0m \u001b[1;33m=\u001b[0m \u001b[1;36m1000\u001b[0m\u001b[1;33m\u001b[0m\u001b[1;33m\u001b[0m\u001b[0m\n\u001b[1;32m----> 5\u001b[1;33m     \u001b[0mm\u001b[0m\u001b[1;33m,\u001b[0m \u001b[0mc\u001b[0m \u001b[1;33m=\u001b[0m \u001b[0mgd\u001b[0m\u001b[1;33m(\u001b[0m\u001b[0mdata\u001b[0m\u001b[1;33m,\u001b[0m \u001b[0mlr\u001b[0m\u001b[1;33m,\u001b[0m \u001b[0mnum_iter\u001b[0m\u001b[1;33m)\u001b[0m\u001b[1;33m\u001b[0m\u001b[1;33m\u001b[0m\u001b[0m\n\u001b[0m\u001b[0;32m      6\u001b[0m     \u001b[0mprint\u001b[0m\u001b[1;33m(\u001b[0m\u001b[0mm\u001b[0m\u001b[1;33m,\u001b[0m \u001b[0mc\u001b[0m\u001b[1;33m)\u001b[0m\u001b[1;33m\u001b[0m\u001b[1;33m\u001b[0m\u001b[0m\n",
      "\u001b[1;32m<ipython-input-68-3bf785bb6840>\u001b[0m in \u001b[0;36mgd\u001b[1;34m(data, lr, num_iter)\u001b[0m\n\u001b[0;32m      3\u001b[0m     \u001b[0mc\u001b[0m \u001b[1;33m=\u001b[0m \u001b[1;36m1\u001b[0m\u001b[1;33m\u001b[0m\u001b[1;33m\u001b[0m\u001b[0m\n\u001b[0;32m      4\u001b[0m     \u001b[1;32mfor\u001b[0m \u001b[0mi\u001b[0m \u001b[1;32min\u001b[0m \u001b[0mrange\u001b[0m\u001b[1;33m(\u001b[0m\u001b[0mnum_iter\u001b[0m\u001b[1;33m)\u001b[0m\u001b[1;33m:\u001b[0m\u001b[1;33m\u001b[0m\u001b[1;33m\u001b[0m\u001b[0m\n\u001b[1;32m----> 5\u001b[1;33m         \u001b[0mm\u001b[0m\u001b[1;33m,\u001b[0m \u001b[0mc\u001b[0m \u001b[1;33m=\u001b[0m \u001b[0mstep_gradient\u001b[0m\u001b[1;33m(\u001b[0m\u001b[0mdata\u001b[0m\u001b[1;33m,\u001b[0m \u001b[0mlr\u001b[0m\u001b[1;33m,\u001b[0m \u001b[0mm\u001b[0m \u001b[1;33m,\u001b[0m\u001b[0mc\u001b[0m\u001b[1;33m)\u001b[0m\u001b[1;33m\u001b[0m\u001b[1;33m\u001b[0m\u001b[0m\n\u001b[0m",
      "\u001b[1;32m<ipython-input-67-e8f574197ef9>\u001b[0m in \u001b[0;36mstep_gradient\u001b[1;34m(pt, lr, m, c)\u001b[0m\n\u001b[0;32m      2\u001b[0m     \u001b[0mx\u001b[0m \u001b[1;33m=\u001b[0m \u001b[0mpt\u001b[0m\u001b[1;33m[\u001b[0m\u001b[1;33m:\u001b[0m\u001b[1;33m,\u001b[0m\u001b[1;36m0\u001b[0m\u001b[1;33m]\u001b[0m\u001b[1;33m\u001b[0m\u001b[1;33m\u001b[0m\u001b[0m\n\u001b[0;32m      3\u001b[0m     \u001b[0my\u001b[0m \u001b[1;33m=\u001b[0m \u001b[0mpt\u001b[0m\u001b[1;33m[\u001b[0m\u001b[1;33m:\u001b[0m\u001b[1;33m,\u001b[0m\u001b[1;36m1\u001b[0m\u001b[1;33m]\u001b[0m\u001b[1;33m\u001b[0m\u001b[1;33m\u001b[0m\u001b[0m\n\u001b[1;32m----> 4\u001b[1;33m     \u001b[0mslope_m\u001b[0m \u001b[1;33m=\u001b[0m \u001b[1;36m2\u001b[0m \u001b[1;33m*\u001b[0m \u001b[0msum\u001b[0m\u001b[1;33m(\u001b[0m\u001b[1;33m-\u001b[0m\u001b[1;33m(\u001b[0m\u001b[0mx\u001b[0m\u001b[1;33m*\u001b[0m\u001b[0my\u001b[0m\u001b[1;33m)\u001b[0m\u001b[1;33m.\u001b[0m\u001b[0mmean\u001b[0m\u001b[1;33m(\u001b[0m\u001b[1;33m)\u001b[0m \u001b[1;33m+\u001b[0m \u001b[0mm\u001b[0m\u001b[1;33m*\u001b[0m\u001b[1;33m(\u001b[0m\u001b[0mx\u001b[0m\u001b[1;33m**\u001b[0m\u001b[1;36m2\u001b[0m\u001b[1;33m)\u001b[0m\u001b[1;33m.\u001b[0m\u001b[0mmean\u001b[0m\u001b[1;33m(\u001b[0m\u001b[1;33m)\u001b[0m \u001b[1;33m+\u001b[0m \u001b[0mc\u001b[0m\u001b[1;33m*\u001b[0m\u001b[1;33m(\u001b[0m\u001b[0mx\u001b[0m\u001b[1;33m)\u001b[0m\u001b[1;33m.\u001b[0m\u001b[0mmean\u001b[0m\u001b[1;33m(\u001b[0m\u001b[1;33m)\u001b[0m\u001b[1;33m)\u001b[0m\u001b[1;33m\u001b[0m\u001b[1;33m\u001b[0m\u001b[0m\n\u001b[0m\u001b[0;32m      5\u001b[0m     \u001b[0mslope_c\u001b[0m \u001b[1;33m=\u001b[0m \u001b[1;36m2\u001b[0m \u001b[1;33m*\u001b[0m \u001b[0msum\u001b[0m\u001b[1;33m(\u001b[0m\u001b[1;33m-\u001b[0m\u001b[1;33m(\u001b[0m\u001b[0my\u001b[0m\u001b[1;33m)\u001b[0m\u001b[1;33m.\u001b[0m\u001b[0mmean\u001b[0m\u001b[1;33m(\u001b[0m\u001b[1;33m)\u001b[0m \u001b[1;33m+\u001b[0m \u001b[0mm\u001b[0m\u001b[1;33m*\u001b[0m\u001b[1;33m(\u001b[0m\u001b[0mx\u001b[0m\u001b[1;33m)\u001b[0m\u001b[1;33m.\u001b[0m\u001b[0mmean\u001b[0m\u001b[1;33m(\u001b[0m\u001b[1;33m)\u001b[0m \u001b[1;33m+\u001b[0m \u001b[0mc\u001b[0m\u001b[1;33m)\u001b[0m\u001b[1;33m\u001b[0m\u001b[1;33m\u001b[0m\u001b[0m\n\u001b[0;32m      6\u001b[0m     \u001b[0mm\u001b[0m \u001b[1;33m=\u001b[0m \u001b[0mm\u001b[0m \u001b[1;33m-\u001b[0m \u001b[0mlr\u001b[0m\u001b[1;33m*\u001b[0m\u001b[0mslope_m\u001b[0m\u001b[1;33m\u001b[0m\u001b[1;33m\u001b[0m\u001b[0m\n",
      "\u001b[1;31mTypeError\u001b[0m: 'numpy.float64' object is not iterable"
     ]
    }
   ],
   "source": [
    "run()"
   ]
  },
  {
   "cell_type": "code",
   "execution_count": null,
   "metadata": {},
   "outputs": [],
   "source": []
  }
 ],
 "metadata": {
  "interpreter": {
   "hash": "57baa5815c940fdaff4d14510622de9616cae602444507ba5d0b6727c008cbd6"
  },
  "kernelspec": {
   "display_name": "Python 3.7.8 64-bit",
   "name": "python3"
  },
  "language_info": {
   "codemirror_mode": {
    "name": "ipython",
    "version": 3
   },
   "file_extension": ".py",
   "mimetype": "text/x-python",
   "name": "python",
   "nbconvert_exporter": "python",
   "pygments_lexer": "ipython3",
   "version": "3.7.8"
  },
  "orig_nbformat": 4
 },
 "nbformat": 4,
 "nbformat_minor": 2
}
