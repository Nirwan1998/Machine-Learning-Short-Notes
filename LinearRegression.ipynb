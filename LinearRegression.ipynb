{
 "cells": [
  {
   "cell_type": "markdown",
   "metadata": {},
   "source": [
    "# Linear Regression"
   ]
  },
  {
   "cell_type": "markdown",
   "metadata": {},
   "source": [
    "## Hypothesis/function fits the data "
   ]
  },
  {
   "cell_type": "markdown",
   "metadata": {},
   "source": [
    "### X Train ---> $f$ ---> Y Train "
   ]
  },
  {
   "cell_type": "markdown",
   "metadata": {},
   "source": [
    "### $f$ here is the hypothesis. "
   ]
  },
  {
   "cell_type": "markdown",
   "metadata": {},
   "source": [
    "### Linear Regression tries to put a linear function out there. "
   ]
  },
  {
   "cell_type": "markdown",
   "metadata": {},
   "source": [
    "### Suppose 3 features are there in the model : $x_1$, $x_2$, $x_3$. "
   ]
  },
  {
   "cell_type": "markdown",
   "metadata": {},
   "source": [
    "### Then Linear Regression says that $y$ = $m_1 * x_1$ + $m_2 * x_2$ + $m_3 * x_3$ + $b$. "
   ]
  },
  {
   "cell_type": "markdown",
   "metadata": {},
   "source": [
    "### It decides importance of features in model by tuning m. "
   ]
  },
  {
   "cell_type": "markdown",
   "metadata": {},
   "source": [
    "### We don't know the values of $m_1$, $m_2$, ... and so on"
   ]
  },
  {
   "cell_type": "markdown",
   "metadata": {},
   "source": [
    "### Linear Regression assumes linear relation between $x$ and $y$. "
   ]
  },
  {
   "cell_type": "markdown",
   "metadata": {},
   "source": [
    "### If we have $n$ features, then we need to find $n + 1$ values because of bias."
   ]
  },
  {
   "cell_type": "markdown",
   "metadata": {},
   "source": [
    "## Using Scilearn to implement Linear Regression"
   ]
  },
  {
   "cell_type": "code",
   "execution_count": 13,
   "metadata": {},
   "outputs": [
    {
     "name": "stdout",
     "output_type": "stream",
     "text": [
      "(100, 2)\n"
     ]
    }
   ],
   "source": [
    "import numpy as np\n",
    "import pandas as pd\n",
    "data = np.loadtxt(\"data.csv\", delimiter = ',')\n",
    "print(data.shape)"
   ]
  },
  {
   "cell_type": "code",
   "execution_count": 14,
   "metadata": {},
   "outputs": [
    {
     "data": {
      "text/plain": [
       "(array([  1.,   2.,   3.,   4.,   5.,   6.,   7.,   8.,   9.,  10.,  11.,\n",
       "         12.,  13.,  14.,  15.,  16.,  17.,  18.,  19.,  20.,  21.,  22.,\n",
       "         23.,  24.,  25.,  26.,  27.,  28.,  29.,  30.,  31.,  32.,  33.,\n",
       "         34.,  35.,  36.,  37.,  38.,  39.,  40.,  41.,  42.,  43.,  44.,\n",
       "         45.,  46.,  47.,  48.,  49.,  50.,  51.,  52.,  53.,  54.,  55.,\n",
       "         56.,  57.,  58.,  59.,  60.,  61.,  62.,  63.,  64.,  65.,  66.,\n",
       "         67.,  68.,  69.,  70.,  71.,  72.,  73.,  74.,  75.,  76.,  77.,\n",
       "         78.,  79.,  80.,  81.,  82.,  83.,  84.,  85.,  86.,  87.,  88.,\n",
       "         89.,  90.,  91.,  92.,  93.,  94.,  95.,  96.,  97.,  98.,  99.,\n",
       "        100.]),\n",
       " array([ 30.,  29.,  31.,  16.,  24.,  29.,  28., 117.,  42.,  23.,  40.,\n",
       "         15.,  18.,  51.,  15.,  19.,  30.,  25.,  17.,  55.,  20.,  12.,\n",
       "         39.,  25.,  56.,  61.,  77.,  34.,  14.,   8.,  31.,  34.,  22.,\n",
       "         12.,  52.,  50.,  24.,  20.,  91.,  33.,  27.,  25.,  83.,  12.,\n",
       "         21.,  38.,  20.,  24.,  37.,  18.,  56.,  20.,  47.,  51.,  22.,\n",
       "         46.,  24.,  35.,  28.,  12.,  28.,  43.,  50.,  37., 127.,  11.,\n",
       "         12.,  22.,  25.,  57.,  53.,  38.,  33.,  16.,  35.,  29.,  23.,\n",
       "         21.,  11.,  31.,  12.,  37.,  40.,  29.,  14.,  15.,  38.,  74.,\n",
       "         19., 121.,  52.,  25.,  14.,  12.,  31.,  25.,  16.,  19.,  54.,\n",
       "         24.]))"
      ]
     },
     "execution_count": 14,
     "metadata": {},
     "output_type": "execute_result"
    }
   ],
   "source": [
    "x = data[:, 0]\n",
    "y = data[:, 1]\n",
    "x, y"
   ]
  },
  {
   "cell_type": "code",
   "execution_count": 15,
   "metadata": {},
   "outputs": [],
   "source": [
    "from sklearn import model_selection\n",
    "X_train, X_test, Y_train, Y_test = model_selection.train_test_split(x, y)"
   ]
  },
  {
   "cell_type": "markdown",
   "metadata": {},
   "source": [
    "#### X_Train is 1D, LR algo requires 2D\n",
    "#### So we need to reshape it\n",
    "#### X_train.reshape(-1, 1) means 1 column and any number of rows"
   ]
  },
  {
   "cell_type": "code",
   "execution_count": 20,
   "metadata": {},
   "outputs": [],
   "source": [
    "X_train = X_train.reshape(-1, 1)\n",
    "X_test = X_test.reshape(-1, 1)"
   ]
  },
  {
   "cell_type": "code",
   "execution_count": 21,
   "metadata": {},
   "outputs": [
    {
     "data": {
      "text/plain": [
       "LinearRegression()"
      ]
     },
     "execution_count": 21,
     "metadata": {},
     "output_type": "execute_result"
    }
   ],
   "source": [
    "from sklearn.linear_model import LinearRegression\n",
    "alg1 = LinearRegression()\n",
    "alg1.fit(X_train, Y_train)"
   ]
  },
  {
   "cell_type": "markdown",
   "metadata": {},
   "source": [
    "#### To view coefficient that the \"fit\" func has created - >"
   ]
  },
  {
   "cell_type": "code",
   "execution_count": 23,
   "metadata": {},
   "outputs": [
    {
     "data": {
      "text/plain": [
       "array([-0.07857977])"
      ]
     },
     "execution_count": 23,
     "metadata": {},
     "output_type": "execute_result"
    }
   ],
   "source": [
    "# m\n",
    "alg1.coef_"
   ]
  },
  {
   "cell_type": "markdown",
   "metadata": {},
   "source": [
    "#### To view intercept created for func - >"
   ]
  },
  {
   "cell_type": "code",
   "execution_count": 24,
   "metadata": {},
   "outputs": [
    {
     "data": {
      "text/plain": [
       "36.77490263054555"
      ]
     },
     "execution_count": 24,
     "metadata": {},
     "output_type": "execute_result"
    }
   ],
   "source": [
    "# c\n",
    "alg1.intercept_"
   ]
  },
  {
   "cell_type": "markdown",
   "metadata": {},
   "source": [
    "#### For training data"
   ]
  },
  {
   "cell_type": "code",
   "execution_count": 33,
   "metadata": {},
   "outputs": [
    {
     "data": {
      "image/png": "[encoded data removed]",
      "text/plain": [
       "<Figure size 432x288 with 1 Axes>"
      ]
     },
     "metadata": {
      "needs_background": "light"
     },
     "output_type": "display_data"
    }
   ],
   "source": [
    "import matplotlib.pyplot as plt\n",
    "m = alg1.coef_[0]\n",
    "c = alg1.intercept_\n",
    "\n",
    "x_line = np.arange(0, 100, 1)\n",
    "y_line = m * x_line + c\n",
    "plt.plot(x_line, y_line, 'r')\n",
    "train_1d = X_train.reshape(75)\n",
    "plt.scatter(X_train, Y_train)\n",
    "plt.show()"
   ]
  },
  {
   "cell_type": "markdown",
   "metadata": {},
   "source": [
    "#### For testing data"
   ]
  },
  {
   "cell_type": "code",
   "execution_count": 34,
   "metadata": {},
   "outputs": [
    {
     "data": {
      "image/png": "[encoded data removed]",
      "text/plain": [
       "<Figure size 432x288 with 1 Axes>"
      ]
     },
     "metadata": {
      "needs_background": "light"
     },
     "output_type": "display_data"
    }
   ],
   "source": [
    "import matplotlib.pyplot as plt\n",
    "m = alg1.coef_[0]\n",
    "c = alg1.intercept_\n",
    "\n",
    "x_line = np.arange(0, 100, 1)\n",
    "y_line = m * x_line + c\n",
    "plt.plot(x_line, y_line, 'r')\n",
    "train_1d = X_test.reshape(25)\n",
    "plt.scatter(X_test, Y_test)\n",
    "plt.show()"
   ]
  },
  {
   "cell_type": "markdown",
   "metadata": {},
   "source": [
    "## Coefficient of Determination"
   ]
  },
  {
   "cell_type": "markdown",
   "metadata": {},
   "source": [
    "### Coefficient of determination is used to calculate the difference between the true values and the predicted values."
   ]
  },
  {
   "cell_type": "markdown",
   "metadata": {},
   "source": [
    "### The score is calculated as :\n",
    "### $Score = 1 - u/v$\n",
    "### where $u = \\sum_{i=0}^{n} (y^T_i - y^P_i)^2$\n",
    "### and $v =  \\sum_{i=0}^{n} (y^T_i - y^T_{mean})^2$"
   ]
  },
  {
   "cell_type": "markdown",
   "metadata": {},
   "source": [
    "### Ideally $Score$ lies between $0$ and $1$, with $1$ being the best.\n",
    "### Predicting $y^P$ to be $y_{mean}$ is the worst case scenario. That simply means that we have taken all predicted values to be the mean; in which case the $Score$ is $0$.\n",
    "### If $Score$ is negative, it implies that our prediction is worse than the mean."
   ]
  },
  {
   "cell_type": "markdown",
   "metadata": {},
   "source": [
    "### Scikit can calculate the $Score$ automatically using **\"score\"** "
   ]
  },
  {
   "cell_type": "code",
   "execution_count": 35,
   "metadata": {},
   "outputs": [
    {
     "data": {
      "text/plain": [
       "(0.010263046018532673, -0.07377428509415895)"
      ]
     },
     "execution_count": 35,
     "metadata": {},
     "output_type": "execute_result"
    }
   ],
   "source": [
    "Score_test = alg1.score(X_test, Y_test)\n",
    "Score_train = alg1.score(X_train, Y_train)\n",
    "Score_train, Score_test"
   ]
  },
  {
   "cell_type": "markdown",
   "metadata": {},
   "source": [
    "## Cost Function"
   ]
  },
  {
   "cell_type": "markdown",
   "metadata": {},
   "source": [
    "### How does the Linear Regression model find the best fit line."
   ]
  },
  {
   "cell_type": "markdown",
   "metadata": {},
   "source": [
    "### We have to find an **\"objective\"** way of defining what is best.\n",
    "### To find the best way, what we generally do is get to an error function.\n",
    "### So given a line, we want to find out how much error is caused by it with respect to the given points.\n",
    "### If we have this error function, we can try and find the line for which the error is minimum."
   ]
  },
  {
   "cell_type": "markdown",
   "metadata": {},
   "source": [
    "### How do we find the error function?\n",
    "### Let's talk about a single point.\n",
    "### $x_i$ and $y_i$ <--- $i^{th}$ data point. ($x_i$ may contain n features)\n",
    "### Here $x_i$ is an input vector.\n",
    "### $x_i = [x^1_i, x^2_i, x^3_i, ... , x^n_i]$\n",
    "### For this $x_i$, the line that we will predict is $(m_1 * x^1_i + m_2 * x^2_i + m_3 * x^3_i + .... + m_n * x^n_i + c)$\n",
    "### The **Error** for this particular points is:\n",
    "### $y_i - (m_1 * x^1_i + m_2 * x^2_i + m_3 * x^3_i + .... + m_n * x^n_i + c)$\n",
    "### The total **Error** is:\n",
    "### $Error = \\sum_{i=0}^{n} (y_i - (m_1 * x^1_i + m_2 * x^2_i + m_3 * x^3_i + .... + m_n * x^n_i + c))$"
   ]
  },
  {
   "cell_type": "markdown",
   "metadata": {},
   "source": [
    "### There is a small error with the above formula.\n",
    "### Errors belonging to either side of the predicted line will have different signs.\n",
    "### One will lead to a positive error, while one will lead to a negative error; and they will cancel out each other.\n",
    "### The net error will be less than the indiviual errors that we have seen so far. That is a bad idea since two points, on either side of the predicted line, even if far away from the line will cancel out the other (because one is highly positive error while the other is a highly negative error)  leading to low error scores even though the predicted line is far away from both points."
   ]
  },
  {
   "cell_type": "code",
   "execution_count": 41,
   "metadata": {},
   "outputs": [
    {
     "data": {
      "image/png": "[encoded data removed]",
      "text/plain": [
       "<Figure size 432x288 with 1 Axes>"
      ]
     },
     "metadata": {
      "needs_background": "light"
     },
     "output_type": "display_data"
    }
   ],
   "source": [
    "x_line1 = np.arange(0, 10, 1)\n",
    "y_line1 = 1 * x_line + 0\n",
    "x_line2 = np.arange(0, 10, 1)\n",
    "y_line2 = 1.5 * x_line + 2\n",
    "plt.plot(x_line1, y_line1, 'r')\n",
    "X = [4, 4.5]\n",
    "Y = [8, 0.5]\n",
    "plt.scatter(X, Y)\n",
    "plt.show()"
   ]
  },
  {
   "cell_type": "markdown",
   "metadata": {},
   "source": [
    "#### In the above plot, although the net error is zero, the indiviual errors are not."
   ]
  },
  {
   "cell_type": "markdown",
   "metadata": {},
   "source": [
    "### A solution could be taking the absolute value for all errors, negative or positive.\n",
    "### $Error = \\sum_{i=0}^{n} \\mathscr{abs}(y_i - (m * x_i + c))$\n",
    "### where $m * x_i = (m_1 * x^1_i + m_2 * x^2_i + m_3 * x^3_i + .... + m_n * x^n_i)$\n",
    "### Yet, there is a small problem with this. What we are doing here is that we are linearly punishing the error. If the error is small enough, it works for us. If the error is large, we want to punish it more. We don't want our error to be linearly calculated then.\n",
    "### The sum of the errors for two points on either side of the line stays the same if the line lies between the two points (assuming that $m$ is kept constant). In reality however, some of the possible lines in between the two points are not well predicted."
   ]
  },
  {
   "cell_type": "code",
   "execution_count": 42,
   "metadata": {},
   "outputs": [
    {
     "data": {
      "image/png": "[encoded data removed]",
      "text/plain": [
       "<Figure size 432x288 with 1 Axes>"
      ]
     },
     "metadata": {
      "needs_background": "light"
     },
     "output_type": "display_data"
    }
   ],
   "source": [
    "x_line1 = np.arange(0, 10, 1)\n",
    "y_line1 = 1 * x_line + 0\n",
    "x_line2 = np.arange(0, 10, 1)\n",
    "y_line2 = 1 * x_line + 2\n",
    "plt.plot(x_line1, y_line1, 'r')\n",
    "plt.plot(x_line2, y_line2, 'g')\n",
    "X = [4, 4.5]\n",
    "Y = [8, 0.5]\n",
    "plt.scatter(X, Y)\n",
    "plt.show()"
   ]
  },
  {
   "cell_type": "markdown",
   "metadata": {},
   "source": [
    "#### In the above plot, even though the $\\mathscr{abs}$ errors for Line Red and Line Green are same, the Line Red is a better predictor than Green."
   ]
  },
  {
   "cell_type": "markdown",
   "metadata": {},
   "source": [
    "### A better solution is to use a non-linear function like the one below:\n",
    "### $Error = \\sum_{i=0}^{n} (y_i - (m * x_i + c))^2$\n",
    "### where $m * x_i = (m_1 * x^1_i + m_2 * x^2_i + m_3 * x^3_i + .... + m_n * x^n_i)$\n",
    "### This is going to make sure that large errors are punished more.\n",
    "### Taking the above plot as an example, the Green line will now produce much larger errors than the Red line.\n",
    "### Therefore this is the **Cost Function** that we are going to use."
   ]
  },
  {
   "cell_type": "markdown",
   "metadata": {},
   "source": [
    "### We'll now learn how to predict $m$ and $c$ given our **cost** function.\n",
    "### For this example we'll assume that the given data is one-dimensional.\n",
    "### $Cost = cost(m, c) = \\sum_{i=0}^{n} (y_i - (m * x_i + c))^2$\n",
    "### We will calculate $m$ and $c$ for the line $y = m * x + c$ so that the $Cost$ is minimized.\n",
    "### To find out this out, we'll partially differentiate $cost(m, c)$ with respect to $m$ and $c$ and equate them to zero.\n",
    "## 1. Differentiating partially with respect to m:\n",
    "### ${\\frac {\\partial {cost}}{\\partial {m}}} = 0$\n",
    "### ${\\frac {\\partial {\\sum_{i=0}^{n} (y_i - (m * x_i + c))^2}}{\\partial m}} = 0$\n",
    "### $\\sum_{i=0}^{n} 2(y_i - (m * x_i + c)) * (-x_i) = 0$\n",
    "### $\\sum_{i=0}^{n} (x_i * y_i) - m\\sum_{i=0}^{n} (x_i^2) - c\\sum_{i=0}^{n} (x_i) = 0$\n",
    "### Dividing both sides by n(number of points)\n",
    "### $ {\\frac {\\sum_{i=0}^{n} (x_i * y_i)}{n}} - m{\\frac {\\sum_{i=0}^{n} (x_i^2)}{n}} - c{\\frac {\\sum_{i=0}^{n} (x_i)}{n}} = 0\\dots\\dots\\dots\\dots\\dots\\dots (i)$\n",
    "### where ${\\frac {\\sum_{i=0}^{n} (x_i * y_i)}{n}}$ is $(x * y)_{mean}$, ${\\frac {\\sum_{i=0}^{n} (x_i^2)}{n}}$ is $(x^2)_{mean}$ and ${\\frac {\\sum_{i=0}^{n} (x_i)}{n}}$ is $(x)_{mean}$.\n",
    "## 2. Differentiating partially with respect to c:\n",
    "### ${\\frac {\\partial {cost}}{\\partial {c}}} = 0$\n",
    "### ${\\frac {\\partial {\\sum_{i=0}^{n} (y_i - (m * x_i + c))^2}}{\\partial c}} = 0$\n",
    "### $\\sum_{i=0}^{n} (y_i - (m * x_i + c)) * (-1) = 0$\n",
    "### $\\sum_{i=0}^{n} (y_i) - m\\sum_{i=0}^{n} (x_i) - c\\sum_{i=0}^{n} (1) = 0$\n",
    "### Dividing both sides by n(number of points)\n",
    "### $ {\\frac {\\sum_{i=0}^{n} (y_i)}{n}} - m{\\frac {\\sum_{i=0}^{n} (x_i)}{n}} - c{\\frac {\\sum_{i=0}^{n} (1)}{n}} = 0\\dots\\dots\\dots\\dots\\dots\\dots (ii)$\n",
    "### where ${\\frac {\\sum_{i=0}^{n} (y_i)}{n}}$ is $(y)_{mean}$, ${\\frac {\\sum_{i=0}^{n} (x_i)}{n}}$ is $(x)_{mean}$ and ${\\frac {\\sum_{i=0}^{n} (1)}{n}}$ is $1$."
   ]
  },
  {
   "cell_type": "markdown",
   "metadata": {},
   "source": [
    "### From $eq$ $(i)$ and $(ii)$ we get the values of $m$ and $c$ for which $cost(m, c)$ is minimum.\n",
    "### $xy_{mean} - mx^2_{mean} - cx_{mean} = 0 \\dots\\dots\\dots (i)$\n",
    "### $y_{mean} - mx_{mean} = c \\dots\\dots\\dots (ii)$\n",
    "### Replacing value of c from $(ii)$ in $(i)$ we get:\n",
    "### $m = {\\frac {xy_{mean} - x_{mean}*y_{mean}}{x^2_{mean} - x_{ mean}*x_{ mean}}}$\n",
    "### $c$ can then be found from $eq (ii)$ "
   ]
  },
  {
   "cell_type": "markdown",
   "metadata": {},
   "source": [
    "## Coding Linear Regression for 1D data from scratch"
   ]
  },
  {
   "cell_type": "markdown",
   "metadata": {},
   "source": [
    "### Implementing everything that we have learnt above, we shall now write our own code for Linear Regression"
   ]
  },
  {
   "cell_type": "code",
   "execution_count": 43,
   "metadata": {},
   "outputs": [
    {
     "data": {
      "text/plain": [
       "(100,)"
      ]
     },
     "execution_count": 43,
     "metadata": {},
     "output_type": "execute_result"
    }
   ],
   "source": [
    "data = np.loadtxt('data.csv', delimiter = ',')\n",
    "x = data[:, 0]\n",
    "y = data[:, 1]\n",
    "x.shape"
   ]
  },
  {
   "cell_type": "code",
   "execution_count": 44,
   "metadata": {},
   "outputs": [],
   "source": [
    "x_train, x_test, y_train, y_test = model_selection.train_test_split(x, y, test_size = 0.3)"
   ]
  },
  {
   "cell_type": "code",
   "execution_count": 45,
   "metadata": {},
   "outputs": [
    {
     "data": {
      "text/plain": [
       "(70,)"
      ]
     },
     "execution_count": 45,
     "metadata": {},
     "output_type": "execute_result"
    }
   ],
   "source": [
    "x_train.shape"
   ]
  },
  {
   "cell_type": "code",
   "execution_count": 47,
   "metadata": {},
   "outputs": [],
   "source": [
    "def fit(x_train, y_train):\n",
    "    num = (x_train * y_train).mean() - (x_train.mean() * y_train.mean())\n",
    "    den = (x_train ** 2).mean() - (x_train.mean() * x_train.mean())\n",
    "    m = num/den\n",
    "    c = y_train.mean() - m * x_train.mean()\n",
    "    return m, c"
   ]
  },
  {
   "cell_type": "code",
   "execution_count": 53,
   "metadata": {},
   "outputs": [],
   "source": [
    "def predict(x, m, c):\n",
    "    y_pred = m * x + c\n",
    "    return y_pred"
   ]
  },
  {
   "cell_type": "code",
   "execution_count": 54,
   "metadata": {},
   "outputs": [],
   "source": [
    "def score(y_truth, y_pred):\n",
    "    u = sum((y_truth - y_pred) ** 2)\n",
    "    v = sum((y_truth - y_test.mean()) ** 2)\n",
    "    score = 1 - (u/v)\n",
    "    print(score)"
   ]
  },
  {
   "cell_type": "code",
   "execution_count": 56,
   "metadata": {},
   "outputs": [
    {
     "name": "stdout",
     "output_type": "stream",
     "text": [
      "Test Score:\n",
      "-0.07785471116439258\n",
      "Train Score:\n",
      "0.009284014349842828\n",
      "m, c =  0.07470671559671521 , 30.411378708237724\n"
     ]
    }
   ],
   "source": [
    "m, c = fit(x_train, y_train)\n",
    "y_pred_test = predict(x_test, m, c)\n",
    "print(\"Test Score:\")\n",
    "score(y_test, y_pred_test)\n",
    "y_pred_train = predict(x_train, m, c)\n",
    "print(\"Train Score:\")\n",
    "score(y_train, y_pred_train)\n",
    "print(\"m, c = \", m, \",\", c)"
   ]
  }
 ],
 "metadata": {
  "interpreter": {
   "hash": "57baa5815c940fdaff4d14510622de9616cae602444507ba5d0b6727c008cbd6"
  },
  "kernelspec": {
   "display_name": "Python 3.7.8 64-bit",
   "name": "python3"
  },
  "language_info": {
   "codemirror_mode": {
    "name": "ipython",
    "version": 3
   },
   "file_extension": ".py",
   "mimetype": "text/x-python",
   "name": "python",
   "nbconvert_exporter": "python",
   "pygments_lexer": "ipython3",
   "version": "3.7.8"
  },
  "orig_nbformat": 4
 },
 "nbformat": 4,
 "nbformat_minor": 2
}
